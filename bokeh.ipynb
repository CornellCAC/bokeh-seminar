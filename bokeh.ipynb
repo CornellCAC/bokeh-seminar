{
 "cells": [
  {
   "cell_type": "markdown",
   "id": "4a560f86",
   "metadata": {
    "slideshow": {
     "slide_type": "slide"
    }
   },
   "source": [
    "# Interactive Data Visualization with Bokeh\n",
    "\n",
    "Chris Myers\n",
    "\n",
    "Cornell University Center for Advanced Computing (CAC) <br>and <br>\n",
    "Cornell Department of Physics / Laboratory of Atomic & Solid State Physics (LASSP)\n",
    "\n",
    "www.cac.cornell.edu/myers\n",
    "\n",
    "These slides are available (as a jupyter notebook) at: https://github.com/CornellCAC/bokeh-seminar\n",
    "\n",
    "<img align=\"left\" src=\"CAC_header.png\" alt=\"CAC logo\" width=\"500\"/>"
   ]
  },
  {
   "cell_type": "markdown",
   "id": "5cf2835b",
   "metadata": {
    "slideshow": {
     "slide_type": "slide"
    }
   },
   "source": [
    "### Outline\n",
    "\n",
    "* Overview of Bokeh\n",
    "* Key concepts in Bokeh\n",
    "* Examples of Bokeh in action\n",
    "* Bokeh server"
   ]
  },
  {
   "cell_type": "markdown",
   "id": "8d43d9bb",
   "metadata": {
    "slideshow": {
     "slide_type": "slide"
    }
   },
   "source": [
    "### Overview of Bokeh (bokeh.org)\n",
    "\n",
    "* Package built to support interactive data visualization within web browsers\n",
    "* Bokeh is not a program, but a library providing an application programming interface (API) to enable programmers to build data visualization environments\n",
    "* Bokeh library is written in Python\n",
    "* Communicates with a Javascript-based backend (BokehJS), which works within a browser\n",
    "* Same architecture supports APIs in other languages (R, Scala, Julia, ...)\n",
    "\n",
    "![bokeh_bokehjs.png](bokeh_bokehjs.png)\n",
    "\n",
    "source: https://docs.bokeh.org/en/latest/docs/dev_guide/bokehjs.html"
   ]
  },
  {
   "cell_type": "markdown",
   "id": "ba9a0af7",
   "metadata": {
    "slideshow": {
     "slide_type": "slide"
    }
   },
   "source": [
    "### Overview of Bokeh (continued)\n",
    "\n",
    "* Supports many standard types of data visualizations\n",
    "* Also enables interactive exploration of data\n",
    "    * different views of static data\n",
    "    * callbacks that respond to user actions to change what data are displayed\n",
    "* Can be used by individuals to explore data on their local machines, and by larger groups to support webservers that can serve up interactive data visualizations over the internet\n",
    "\n",
    "![bokeh_bokehjs.png](bokeh_gallery.jpg)"
   ]
  },
  {
   "cell_type": "markdown",
   "id": "8e8e181c",
   "metadata": {
    "slideshow": {
     "slide_type": "slide"
    }
   },
   "source": [
    "### Comparison with other Python visualization tools\n",
    "\n",
    "* <b>matplotlib</b> : the workhorse and cornerstone of Python plotting &mdash;<br />makes static figures / images with low-level APIs\n",
    "    * <b>pandas</b> : generates matplotlib plots from dataframes and series\n",
    "    * <b>seaborn</b> : generates matplotlib plots tailored to statistical visualizations\n",
    "    * bokeh does not integrate numerical processing to the extent that matplotlib does (e.g., histograms, contour plots, etc.) &mdash; requires explicit calls to numpy or other packages\n",
    "* <b>plotly</b> : similar to bokeh, supporting interactive web-based visualization, although with much more support for more complex computations leading to visualizations\n",
    "* <b>altair</b> : similar to bokeh & plotly, based on the Vega declarative language\n",
    "* <b>plotnine</b> : Python implementation of the \"grammar of graphics\" (R/ggplot2)\n",
    "* <b>VTK, ParaView, etc.</b> : better suited for 3D visualization of 3D objects"
   ]
  },
  {
   "cell_type": "markdown",
   "id": "2f04aef7",
   "metadata": {
    "slideshow": {
     "slide_type": "slide"
    }
   },
   "source": [
    "### Why a presentation about Bokeh?\n",
    "\n",
    "* Most scientific plotting software that people use is focused on generating static plots for publications, reports, and presentations\n",
    "* Bokeh is an example of a package that supports a different paradigm:<br /> <i>interactive exploration of data and visualization-guided data analyses</i>\n",
    "* Bokeh can use interactive visualization to convey additional information about high-dimensional datasets\n",
    "* Bokeh offers many ways of representing data and developing visualizations, and an overview presentation like this might help you to better decide if and how you might best use Bokeh in your own research"
   ]
  },
  {
   "cell_type": "markdown",
   "id": "45c8cb8b",
   "metadata": {
    "slideshow": {
     "slide_type": "slide"
    }
   },
   "source": [
    "### Installing Bokeh\n",
    "\n",
    "* Anaconda Python Distribution: installed as part of default distribution along with many other packages\n",
    "\n",
    "* Conda Environment\n",
    "    * <tt>conda create -n bokeh_env bokeh &nbsp;&nbsp; # just bokeh + deps</tt>\n",
    "    * <tt>conda create -n bokeh_env bokeh pandas jupyter networkx &nbsp; # to run this notebook -- and optionally add rise for live slides</tt>\n",
    "* Python Virtual Environment\n",
    "    * <tt>python -m venv bokeh_env ; source bokeh_env/bin/activate ; pip install bokeh pandas jupyter networkx</tt>\n",
    "    \n",
    "**NOTE #1**: Bokeh version 3.0 will be released soon &mdash; some aspects of the API or links to examples and documentation might change"
   ]
  },
  {
   "cell_type": "markdown",
   "id": "7749c632",
   "metadata": {
    "slideshow": {
     "slide_type": "slide"
    }
   },
   "source": [
    "### Key concepts in Bokeh\n",
    "\n",
    "* Plots, Figures, and Glyphs\n",
    "* Data and ColumnDataSources\n",
    "* Tools and Annotations\n",
    "* Interactions and Widgets\n",
    "* Documents, Layouts, and Applications\n",
    "* Bokeh server\n",
    "* BokehJS"
   ]
  },
  {
   "cell_type": "markdown",
   "id": "6cd7091a",
   "metadata": {
    "slideshow": {
     "slide_type": "slide"
    }
   },
   "source": [
    "### Plots, Figures, and Glyphs\n",
    "\n",
    "Plots are the containers that hold all the relevant objects of a visualization in Bokeh.  They are typically created using the <code>figure()</code> function implemented in the <code>bokeh.plotting</code> module.  \n",
    "\n",
    "The basic visual building blocks of Bokeh plots are <b>glyphs</b>.\n",
    "\n",
    "Many different types of glyphs are available for plotting:\n",
    "* different types of markers: circles, squares, diamonds, etc.\n",
    "* lines, multi_lines, step lines\n",
    "* bars, stacked bars\n",
    "* images\n",
    "* patches, hex tiles, filled areas, stacked areas\n",
    "\n",
    "\n",
    "https://docs.bokeh.org/en/latest/docs/gallery.html#standalone-examples"
   ]
  },
  {
   "cell_type": "markdown",
   "id": "df9c8485",
   "metadata": {
    "slideshow": {
     "slide_type": "slide"
    }
   },
   "source": [
    "### Examples\n",
    "\n",
    "#### Simple plot to an html file (figure and glyphs)"
   ]
  },
  {
   "cell_type": "code",
   "execution_count": null,
   "id": "d7bb2ce6",
   "metadata": {},
   "outputs": [],
   "source": [
    "from bokeh.plotting import figure, output_file, show\n",
    "\n",
    "x = [1,2,3,4,5]\n",
    "y = [2,7,8,4,0]\n",
    "\n",
    "p = figure(width=400, height=400)\n",
    "p.circle(x, y, size=10, color=\"navy\", alpha=0.5)\n",
    "p.line(x, y, color='red')\n",
    "\n",
    "output_file(\"simpleplot.html\")\n",
    "\n",
    "show(p)"
   ]
  },
  {
   "cell_type": "markdown",
   "id": "548f6f12",
   "metadata": {
    "slideshow": {
     "slide_type": "slide"
    }
   },
   "source": [
    "#### Same plot to a Jupyter notebook cell"
   ]
  },
  {
   "cell_type": "code",
   "execution_count": null,
   "id": "33434c2c",
   "metadata": {},
   "outputs": [],
   "source": [
    "from bokeh.plotting import reset_output, figure\n",
    "reset_output()\n",
    "\n",
    "from bokeh.io import output_notebook\n",
    "output_notebook()"
   ]
  },
  {
   "cell_type": "code",
   "execution_count": null,
   "id": "c8be6088",
   "metadata": {
    "scrolled": false,
    "slideshow": {
     "slide_type": "-"
    }
   },
   "outputs": [],
   "source": [
    "from bokeh.plotting import figure, output_file, show\n",
    "\n",
    "x = [1,2,3,4,5]\n",
    "y = [2,7,8,4,0]\n",
    "\n",
    "p = figure(width=400, height=400)\n",
    "p.circle(x, y, size=10, color=\"navy\", alpha=0.5)\n",
    "p.line(x, y, color='red')\n",
    "\n",
    "show(p)"
   ]
  },
  {
   "cell_type": "markdown",
   "id": "1e9db3d2",
   "metadata": {
    "slideshow": {
     "slide_type": "slide"
    }
   },
   "source": [
    "#### Plotting with data in numpy arrays"
   ]
  },
  {
   "cell_type": "code",
   "execution_count": null,
   "id": "293cebd6",
   "metadata": {
    "scrolled": true
   },
   "outputs": [],
   "source": [
    "from bokeh.plotting import figure, output_file, show\n",
    "import numpy as np\n",
    "\n",
    "x = np.linspace(0.,10.,101)\n",
    "y = np.sin(x) * np.cos(x)**2\n",
    "\n",
    "p = figure(width=400, height=400)\n",
    "p.circle(x, y, size=10, color='navy', alpha=1.0)\n",
    "p.line(x, y, color='red')\n",
    "\n",
    "show(p)"
   ]
  },
  {
   "cell_type": "markdown",
   "id": "babd9340",
   "metadata": {
    "slideshow": {
     "slide_type": "slide"
    }
   },
   "source": [
    "### Data and ColumnDataSources\n",
    "\n",
    "Bokeh defines ```ColumnDataSource``` objects to present data to figures for plotting.  Sources can be internally created from other data by Bokeh (e.g., lists or numpy arrays), or explicitly created by the programmer.\n",
    "\n",
    "A ColumnDataSource is like a Pandas DataFrame, with columns keyed by names, and all columns containing the same number of items."
   ]
  },
  {
   "cell_type": "code",
   "execution_count": null,
   "id": "4554d1c3",
   "metadata": {
    "scrolled": false,
    "slideshow": {
     "slide_type": "-"
    }
   },
   "outputs": [],
   "source": [
    "from bokeh.plotting import figure, show\n",
    "from bokeh.models import ColumnDataSource\n",
    "\n",
    "x = np.linspace(0.,10.,101)\n",
    "y = np.sin(x) * np.cos(x)**2\n",
    "\n",
    "source = ColumnDataSource({'x': x, 'y': y})\n",
    "\n",
    "p = figure(width=400, height=400)\n",
    "p.circle(x='x', y='y', source=source, size=10, color='green', alpha=0.5)\n",
    "p.line(x='x', y='y', source=source, color='purple')\n",
    "\n",
    "show(p)"
   ]
  },
  {
   "cell_type": "markdown",
   "id": "0243e803",
   "metadata": {
    "slideshow": {
     "slide_type": "slide"
    }
   },
   "source": [
    "### ColumnDataSources\n",
    "\n",
    "ColumnDataSources can be efficiently updated as data change"
   ]
  },
  {
   "cell_type": "code",
   "execution_count": null,
   "id": "06377eb8",
   "metadata": {
    "scrolled": false,
    "slideshow": {
     "slide_type": "-"
    }
   },
   "outputs": [],
   "source": [
    "new_y = np.sin(x) * np.cos(x)**4\n",
    "\n",
    "source.data['y'] = new_y\n",
    "\n",
    "#p = figure()\n",
    "p.circle(x='x', y='y', source=source, size=10, color='green', alpha=0.5)\n",
    "p.line(x='x', y='y', source=source, color='purple')\n",
    "\n",
    "show(p)"
   ]
  },
  {
   "cell_type": "markdown",
   "id": "813c6495",
   "metadata": {
    "slideshow": {
     "slide_type": "slide"
    }
   },
   "source": [
    "### ColumnDataSource from a Pandas DataFrame\n",
    "\n",
    "```\n",
    "# sample code for creating a dataframe from data in files\n",
    "\n",
    "import pandas as pd\n",
    "df = pd.read_csv('a_csv_file.csv')\n",
    "df = pd.read_excel('an_excel_spreadsheet.xlsx')\n",
    "```"
   ]
  },
  {
   "cell_type": "code",
   "execution_count": null,
   "id": "f0cd8ed4",
   "metadata": {
    "scrolled": true
   },
   "outputs": [],
   "source": [
    "from bokeh.sampledata.autompg import autompg_clean as df\n",
    "\n",
    "df.head()"
   ]
  },
  {
   "cell_type": "code",
   "execution_count": null,
   "id": "20baa32e",
   "metadata": {
    "slideshow": {
     "slide_type": "slide"
    }
   },
   "outputs": [],
   "source": [
    "df.head()"
   ]
  },
  {
   "cell_type": "code",
   "execution_count": null,
   "id": "4b2ba51d",
   "metadata": {
    "scrolled": false
   },
   "outputs": [],
   "source": [
    "from bokeh.plotting import figure, show\n",
    "from bokeh.models import ColumnDataSource\n",
    "\n",
    "p = figure()\n",
    "\n",
    "source = ColumnDataSource(df)\n",
    "\n",
    "p.circle(x='weight', y='mpg', source=source, size=10, color='green', alpha=0.5)\n",
    "p.xaxis.axis_label = 'weight'\n",
    "p.yaxis.axis_label = 'mpg'\n",
    "\n",
    "show(p)"
   ]
  },
  {
   "cell_type": "markdown",
   "id": "763ef2c7",
   "metadata": {
    "slideshow": {
     "slide_type": "slide"
    }
   },
   "source": [
    "### Tools\n",
    "\n",
    "Tools enable you to interact with plots in various ways\n",
    "\n",
    "* Pan / Drag Tools : Pan, BoxSelect, BoxZoom, LassoSelect\n",
    "* Click / Tip Tools : Tap (and DoubleTap), PolySelect\n",
    "* Scroll / Pinch Tools : WheelZoom, Wheel Pan\n",
    "* Actions : Save, Reset, Undo, Redo, etc.\n",
    "* Inspectors : Crosshair, Hover\n",
    "* Edit Tools : BoxEdit, FreehandDraw, PointDraw, PolyDraw, etc."
   ]
  },
  {
   "cell_type": "markdown",
   "id": "516c3851",
   "metadata": {
    "slideshow": {
     "slide_type": "slide"
    }
   },
   "source": [
    "### Interactive Plotting: Hover\n",
    "\n",
    "Hovering over a glyph can provide information about the associated data"
   ]
  },
  {
   "cell_type": "code",
   "execution_count": null,
   "id": "b51bb4c7",
   "metadata": {
    "scrolled": false,
    "slideshow": {
     "slide_type": "-"
    }
   },
   "outputs": [],
   "source": [
    "p = figure(tools='pan,box_zoom,hover,reset', width=600, height=600)\n",
    "\n",
    "p.circle(x='weight', y='mpg', source=source, size=10, color='green', alpha=0.5)\n",
    "\n",
    "show(p)"
   ]
  },
  {
   "cell_type": "markdown",
   "id": "16f95f8c",
   "metadata": {
    "slideshow": {
     "slide_type": "slide"
    }
   },
   "source": [
    "### Configuring what gets displayed while hovering"
   ]
  },
  {
   "cell_type": "code",
   "execution_count": null,
   "id": "f7473f6e",
   "metadata": {},
   "outputs": [],
   "source": [
    "df.head(2)"
   ]
  },
  {
   "cell_type": "code",
   "execution_count": null,
   "id": "0d3cdbcf",
   "metadata": {
    "scrolled": true,
    "slideshow": {
     "slide_type": "-"
    }
   },
   "outputs": [],
   "source": [
    "p = figure(tools='pan,box_zoom,hover,reset',\n",
    "           tooltips = [(\"index\", \"$index\"), (\"(x,y)\", \"($x, $y)\"), ('yr', '@yr'), ('name', '@name')],\n",
    "           width = 400, height = 400)\n",
    "\n",
    "p.circle(x='weight', y='mpg', source=source, size=10, color='green', alpha=0.5)\n",
    "\n",
    "show(p)"
   ]
  },
  {
   "cell_type": "code",
   "execution_count": null,
   "id": "844b7334",
   "metadata": {
    "scrolled": true,
    "slideshow": {
     "slide_type": "slide"
    }
   },
   "outputs": [],
   "source": [
    "hover_tips = [(c, \"@\"+c) for c in source.column_names]\n",
    "\n",
    "print(hover_tips)\n",
    "\n",
    "p = figure(tools='pan,box_zoom,hover,reset', tooltips = hover_tips, width=400, height=400)\n",
    "p.circle(x='weight', y='mpg', source=source, size=10, color='green', alpha=0.5)\n",
    "show(p)"
   ]
  },
  {
   "cell_type": "markdown",
   "id": "7f7a21b6",
   "metadata": {
    "slideshow": {
     "slide_type": "slide"
    }
   },
   "source": [
    "### Some hover examples from our Cornell Virtual Workshop (CVW)\n",
    "\n",
    "cvw.cac.cornell.edu\n",
    "\n",
    "#### Tweets and Retweets\n",
    "\n",
    "https://cvw.cac.cornell.edu/pydatasci2/bokeh\n",
    "\n",
    "https://cvw.cac.cornell.edu/pydatasci2/images/climatechange_tweet_bokeh_scatter_1065274149461987328.html\n",
    "\n",
    "#### Hitting Statistics in Baseball\n",
    "\n",
    "https://cvw.cac.cornell.edu/pydatasci2/dimensionality\n",
    "\n",
    "https://cvw.cac.cornell.edu/pydatasci2/images/batting_TSNE.html"
   ]
  },
  {
   "cell_type": "markdown",
   "id": "494d1cd5",
   "metadata": {
    "slideshow": {
     "slide_type": "slide"
    }
   },
   "source": [
    "### Interactive Plotting: Brushing"
   ]
  },
  {
   "cell_type": "code",
   "execution_count": null,
   "id": "e0b8da4a",
   "metadata": {
    "scrolled": false
   },
   "outputs": [],
   "source": [
    "from bokeh.layouts import row\n",
    "from bokeh.models import ColumnDataSource\n",
    "from bokeh.plotting import figure\n",
    "\n",
    "source = ColumnDataSource(df)\n",
    "\n",
    "hover_tips = [(c, \"@\"+c) for c in source.column_names]\n",
    "TOOLS = \"box_select,lasso_select,hover,reset,help\"\n",
    "\n",
    "# create a new plot and add a renderer\n",
    "left = figure(tools=TOOLS, tooltips=hover_tips, width=300, height=300, title=None)\n",
    "left.circle('weight', 'mpg', source=source)\n",
    "left.xaxis.axis_label, left.yaxis.axis_label = 'weight', 'mpg'\n",
    "\n",
    "# create another new plot and add a renderer\n",
    "right = figure(tools=TOOLS, tooltips=hover_tips, width=300, height=300, title=None)\n",
    "right.circle('hp', 'accel', source=source)\n",
    "right.xaxis.axis_label, right.yaxis.axis_label = 'hp', 'accel'\n",
    "\n",
    "p = row([left, right])\n",
    "\n",
    "show(p)"
   ]
  },
  {
   "cell_type": "markdown",
   "id": "8fdd24aa",
   "metadata": {
    "slideshow": {
     "slide_type": "slide"
    }
   },
   "source": [
    "### Bokeh server\n",
    "\n",
    "Bokeh server:\n",
    "\n",
    "* enables you to modify *what* gets displayed\n",
    "* enables you to trigger new computations based on user interactions\n",
    "* the same code can be run locally within a web browser (localhost), or on a webserver that is made accessible on the internet\n",
    "* can be used to build big data dashboards and applications for allowing users to analyze data\n",
    "\n",
    "Callback functions:\n",
    "* code to execute in the server once an action is triggered\n",
    "* can be used just to modify the display, or to perform computations with the data\n",
    "* typically written in Python\n",
    "* if necessary, written in Javascript and called from Python"
   ]
  },
  {
   "attachments": {
    "bokeh_server.png": {
     "image/png": "[encoded data removed]"
    }
   },
   "cell_type": "markdown",
   "id": "3b0c6482",
   "metadata": {
    "slideshow": {
     "slide_type": "slide"
    }
   },
   "source": [
    "![bokeh_server.png](attachment:bokeh_server.png)\n",
    "\n",
    "source: https://docs.bokeh.org/en/latest/docs/reference/server.html\n",
    "\n",
    "User guide: \"The primary purpose of the Bokeh server is to synchronize data between the underlying Python environment and the BokehJS library running in the browser.\""
   ]
  },
  {
   "cell_type": "markdown",
   "id": "dbbb446d",
   "metadata": {
    "slideshow": {
     "slide_type": "slide"
    }
   },
   "source": [
    "### Bokeh server example #1\n",
    "\n",
    "Gallery page: https://docs.bokeh.org/en/latest/docs/gallery.html#server-app-examples\n",
    "\n",
    "Crossfilter application: https://demo.bokeh.org/crossfilter\n",
    "\n",
    "Source code at: https://github.com/bokeh/bokeh/tree/branch-3.0/examples/server/app/crossfilter/main.py\n",
    "\n",
    "\n",
    "\n"
   ]
  },
  {
   "cell_type": "markdown",
   "id": "b9013f23",
   "metadata": {
    "slideshow": {
     "slide_type": "slide"
    }
   },
   "source": [
    "### Bokeh server example #1\n",
    "\n",
    "Running a bokeh server application locally:\n",
    "\n",
    "bokeh serve --show filename.py\n",
    "\n",
    "e.g., \n",
    "\n",
    "bokeh serve --show crossfilter_mod.py &nbsp;&nbsp;&nbsp;&nbsp; # run this in a terminal with the code in this repo"
   ]
  },
  {
   "cell_type": "markdown",
   "id": "e392ea78",
   "metadata": {
    "slideshow": {
     "slide_type": "slide"
    }
   },
   "source": [
    "### Bokeh server & data access\n",
    "\n",
    "#### Scenarios\n",
    "\n",
    "(1) Data resides entirely in the server's filesystem or in a database, with processed data served via visualizations\n",
    "\n",
    "(2) Data resides on user's local machine, to be uploaded to the bokeh server for processing and visualization\n",
    "\n",
    "(3) Some hybrid of (1)+(2), where user-uploaded data gets added to persistent data store on server\n",
    "\n"
   ]
  },
  {
   "cell_type": "markdown",
   "id": "d59cc52b",
   "metadata": {
    "slideshow": {
     "slide_type": "slide"
    }
   },
   "source": [
    "### Bokeh server example #2: data upload"
   ]
  },
  {
   "cell_type": "code",
   "execution_count": null,
   "id": "9324dbf1",
   "metadata": {},
   "outputs": [],
   "source": [
    "# %load bokehfile.py\n",
    "\n",
    "\"\"\"\n",
    "bokehfile.py: file input in bokeh\n",
    "\"\"\"\n",
    "\n",
    "# run in server mode via: bokeh serve --show bokehfile.py\n",
    "# then click FileInput widget and choose file Scan4.csv\n",
    "\n",
    "from bokeh.io import curdoc\n",
    "from bokeh.models.widgets import FileInput\n",
    "from bokeh.models import ColumnDataSource\n",
    "from bokeh.plotting import figure\n",
    "from base64 import b64decode\n",
    "import pandas as pd\n",
    "import io\n",
    "\n",
    "def upload_data(attr, old, new):\n",
    "    global datasource, plot\n",
    "    decoded = b64decode(new)\n",
    "    data = io.BytesIO(decoded)\n",
    "    print(data)\n",
    "    df = pd.read_csv(data, header=None)\n",
    "    df.columns = ('x', 'y')\n",
    "    datasource = ColumnDataSource(df)\n",
    "    plot.line('x', 'y', source=datasource)\n",
    "\n",
    "datasource = ColumnDataSource({'x': [], 'y': []})\n",
    "plot = figure(width=500, height=400)\n",
    "\n",
    "file_input = FileInput(accept=\".csv\")\n",
    "file_input.on_change('value', upload_data)\n",
    "\n",
    "doc=curdoc()\n",
    "doc.add_root(file_input)\n",
    "doc.add_root(plot)\n",
    "\n"
   ]
  },
  {
   "cell_type": "markdown",
   "id": "558344bc",
   "metadata": {
    "slideshow": {
     "slide_type": "slide"
    }
   },
   "source": [
    "### Bokeh server & data access (continued)\n",
    "\n",
    "(1) Data resides entirely in the server's filesystem or in a database, with processed data served via visualizations (e.g., crossfilter)\n",
    "\n",
    "(2) Data resides on user's local machine, to be uploaded to the bokeh server for processing and visualization (e.g., bokehfile)\n",
    "* Data are resident in memory on a server only for the duration of the browser session, and are not stored on disk there\n",
    "* Any data visualizations or processed datasets in the server application must be downloaded prior to ending the browser session\n",
    "* Writing code to download processed data involves writing Javascript (a CustomJS callback)\n",
    "\n",
    "    * https://docs.bokeh.org/en/latest/docs/gallery.html\n",
    "    * https://demo.bokeh.org/export_csv\n",
    "    * https://github.com/bokeh/bokeh/tree/branch-3.0/examples/server/app/export_csv"
   ]
  },
  {
   "cell_type": "markdown",
   "id": "8bcc2931",
   "metadata": {
    "slideshow": {
     "slide_type": "slide"
    }
   },
   "source": [
    "### Bokeh server example #3\n",
    "\n",
    "#### Denoising ESR Signals Via Wavelets (ACERT)\n",
    "\n",
    "https://denoising.cornell.edu\n",
    "\n",
    "* Accessible only if you are a registered user for the webserver\n",
    "* And you don't really want to be a registered user unless you have ESR data that you want to analyze"
   ]
  },
  {
   "cell_type": "markdown",
   "id": "3be5a15f",
   "metadata": {
    "slideshow": {
     "slide_type": "slide"
    }
   },
   "source": [
    "### Conclusions\n",
    "\n",
    "* Bokeh enables you to create data visualization applications\n",
    "* Best suited for:\n",
    "    * Interactive exploration of complex datasets\n",
    "    * User-guided data analysis and processing\n",
    "* Different modes:\n",
    "    * Browser-based interactions for static / standalone visualizations\n",
    "    * Callbacks for dynamic server-based visualizations\n",
    "* Part of the Python ecosystem: integrates nicely with other packages\n",
    "* Questions?"
   ]
  },
  {
   "cell_type": "markdown",
   "id": "917110c2",
   "metadata": {
    "slideshow": {
     "slide_type": "slide"
    }
   },
   "source": [
    "### Appendices\n",
    "\n",
    "* Changing what gets plotted without Bokeh server (CustomJS)\n",
    "* Integrating with the larger Python scientific computing ecosystem (bond percolation on a lattice)"
   ]
  },
  {
   "cell_type": "markdown",
   "id": "8d544d1f",
   "metadata": {},
   "source": [
    "### Changing what gets plotted without Bokeh server (CustomJS)"
   ]
  },
  {
   "cell_type": "code",
   "execution_count": null,
   "id": "81b8fad1",
   "metadata": {
    "slideshow": {
     "slide_type": "slide"
    }
   },
   "outputs": [],
   "source": [
    "# From the Bokeh Gallery\n",
    "# https://docs.bokeh.org/en/latest/docs/gallery/slider.html\n",
    "\n",
    "import numpy as np\n",
    "\n",
    "from bokeh.layouts import column, row\n",
    "from bokeh.models import CustomJS, Slider\n",
    "from bokeh.plotting import ColumnDataSource, figure, show\n",
    "\n",
    "x = np.linspace(0, 10, 500)\n",
    "y = np.sin(x)\n",
    "\n",
    "source = ColumnDataSource(data=dict(x=x, y=y))\n",
    "\n",
    "plot = figure(y_range=(-10, 10), width=400, height=400)\n",
    "\n",
    "plot.line('x', 'y', source=source, line_width=3, line_alpha=0.6)\n",
    "\n",
    "amp_slider = Slider(start=0.1, end=10, value=1, step=.1, title=\"Amplitude\")\n",
    "freq_slider = Slider(start=0.1, end=10, value=1, step=.1, title=\"Frequency\")\n",
    "phase_slider = Slider(start=0, end=6.4, value=0, step=.1, title=\"Phase\")\n",
    "offset_slider = Slider(start=-5, end=5, value=0, step=.1, title=\"Offset\")\n",
    "\n",
    "callback = CustomJS(args=dict(source=source, amp=amp_slider, freq=freq_slider, phase=phase_slider, offset=offset_slider),\n",
    "                    code=\"\"\"\n",
    "    const data = source.data;\n",
    "    const A = amp.value;\n",
    "    const k = freq.value;\n",
    "    const phi = phase.value;\n",
    "    const B = offset.value;\n",
    "    const x = data['x']\n",
    "    const y = data['y']\n",
    "    for (let i = 0; i < x.length; i++) {\n",
    "        y[i] = B + A*Math.sin(k*x[i]+phi);\n",
    "    }\n",
    "    source.change.emit();\n",
    "\"\"\")\n",
    "\n",
    "amp_slider.js_on_change('value', callback)\n",
    "freq_slider.js_on_change('value', callback)\n",
    "phase_slider.js_on_change('value', callback)\n",
    "offset_slider.js_on_change('value', callback)\n",
    "\n",
    "layout = row(\n",
    "    plot,\n",
    "    column(amp_slider, freq_slider, phase_slider, offset_slider),\n",
    ")\n",
    "\n",
    "show(layout)"
   ]
  },
  {
   "cell_type": "markdown",
   "id": "e1eb73dd",
   "metadata": {
    "slideshow": {
     "slide_type": "slide"
    }
   },
   "source": [
    "### Integrating with the larger Python scientific computing ecosystem\n",
    "#### e.g., bond percolation on a lattice"
   ]
  },
  {
   "cell_type": "code",
   "execution_count": null,
   "id": "63beaee5",
   "metadata": {
    "slideshow": {
     "slide_type": "-"
    }
   },
   "outputs": [],
   "source": [
    "# bond percolation on a square lattice, using networkx to find connected components\n",
    "# the bond occupation probability is named p, set here to p=0.5\n",
    "# change the value of p and rerun to examine how the statistics of percolation clusters change with p\n",
    "\n",
    "import networkx as nx\n",
    "import numpy as np\n",
    "#import itertools\n",
    "from bokeh.plotting import figure, show\n",
    "from bokeh.layouts import row\n",
    "from bokeh.palettes import Category20\n",
    "\n",
    "def percolate_grid(shape, p, periodic=True):\n",
    "    g = nx.grid_2d_graph(shape[0], shape[1], periodic=periodic)\n",
    "    edge_array = np.fromiter(g.edges(), dtype=tuple)\n",
    "    edges_to_remove = edge_array[np.random.random(g.number_of_edges()) > p]\n",
    "    g.remove_edges_from(edges_to_remove)\n",
    "    return g\n",
    "\n",
    "def compute_components(g):\n",
    "    cc = list(nx.connected_components(g))\n",
    "    colors = Category20[20] * ((len(cc)+1)//20)\n",
    "    sizes = [len(c) for c in cc]\n",
    "    cc_img = np.zeros(shape, int)\n",
    "    for i, c in enumerate(cc):\n",
    "        for n in c:\n",
    "            cc_img[n] = i\n",
    "    return cc_img, colors, np.array(sizes)\n",
    "\n",
    "shape = (500,500)\n",
    "p = 0.5\n",
    "g = percolate_grid(shape, p=p)\n",
    "cc_img, colors, sizes = compute_components(g)\n",
    "\n",
    "f = figure(frame_width=shape[0], frame_height=shape[1], match_aspect=True, \n",
    "           tools = \"pan,wheel_zoom,box_zoom,reset\")\n",
    "f.x_range.range_padding = f.y_range.range_padding = 0\n",
    "\n",
    "f.image(image=[cc_img], x=0, y=0, dw=shape[0], dh=shape[1], palette=colors, level=\"image\")\n",
    "f.grid.grid_line_width = 0.0\n",
    "\n",
    "# create another new plot and add a renderer\n",
    "maxsize = sizes.max()\n",
    "xsizes = 10**np.linspace(0, int(np.log10(shape[0]*shape[1])), 20)\n",
    "cdf = [sum(sizes > x) for x in xsizes]\n",
    "right = figure(width=300, height=300, title=None, x_axis_type=\"log\", y_axis_type=\"log\")\n",
    "right.line(xsizes, cdf)\n",
    "right.circle(xsizes, cdf, size=5)\n",
    "right.xaxis.axis_label = 'size s'\n",
    "right.yaxis.axis_label = 'P(cluster size > s)'\n",
    "\n",
    "figs = row([f, right])\n",
    "\n",
    "show(figs)\n"
   ]
  },
  {
   "cell_type": "code",
   "execution_count": null,
   "id": "18db00b7",
   "metadata": {},
   "outputs": [],
   "source": []
  }
 ],
 "metadata": {
  "celltoolbar": "Slideshow",
  "kernelspec": {
   "display_name": "Python 3 (ipykernel)",
   "language": "python",
   "name": "python3"
  },
  "language_info": {
   "codemirror_mode": {
    "name": "ipython",
    "version": 3
   },
   "file_extension": ".py",
   "mimetype": "text/x-python",
   "name": "python",
   "nbconvert_exporter": "python",
   "pygments_lexer": "ipython3",
   "version": "3.9.13"
  },
  "rise": {
   "scroll": true
  }
 },
 "nbformat": 4,
 "nbformat_minor": 5
}
